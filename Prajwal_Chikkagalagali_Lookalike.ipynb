{
 "cells": [
  {
   "cell_type": "code",
   "execution_count": 1,
   "id": "5508a4d8",
   "metadata": {},
   "outputs": [
    {
     "name": "stderr",
     "output_type": "stream",
     "text": [
      "C:\\Users\\Hp\\AppData\\Local\\Programs\\Python\\Python310\\lib\\site-packages\\scipy\\__init__.py:169: UserWarning: A NumPy version >=1.18.5 and <1.26.0 is required for this version of SciPy (detected version 1.26.4\n",
      "  warnings.warn(f\"A NumPy version >={np_minversion} and <{np_maxversion}\"\n"
     ]
    }
   ],
   "source": [
    "import numpy as np\n",
    "import pandas as pd\n",
    "import matplotlib.pyplot as plt\n",
    "import seaborn as sns\n",
    "from sklearn.preprocessing import StandardScaler"
   ]
  },
  {
   "cell_type": "code",
   "execution_count": 2,
   "id": "7eab778e",
   "metadata": {},
   "outputs": [],
   "source": [
    "df_Customer=pd.read_csv('Customers.csv')\n",
    "df_Products=pd.read_csv('Products.csv')\n",
    "df_Transaction=pd.read_csv('Transactions.csv')"
   ]
  },
  {
   "cell_type": "code",
   "execution_count": 3,
   "id": "3b1a928f",
   "metadata": {},
   "outputs": [],
   "source": [
    "# Merge datasets\n",
    "merged_data = df_Transaction.merge(df_Customer, on=\"CustomerID\", how=\"left\").merge(df_Products, on=\"ProductID\", how=\"left\")"
   ]
  },
  {
   "cell_type": "code",
   "execution_count": 4,
   "id": "04ccc62a",
   "metadata": {},
   "outputs": [],
   "source": [
    "# Feature engineering\n",
    "# (a) Total spending per customer\n",
    "customer_spending = merged_data.groupby(\"CustomerID\")[\"TotalValue\"].sum().rename(\"TotalSpending\")\n",
    "\n",
    "# (b) Average transaction value per customer\n",
    "avg_transaction_value = merged_data.groupby(\"CustomerID\")[\"TotalValue\"].mean().rename(\"AvgTransactionValue\")\n",
    "\n",
    "# (c) Product category preferences (one-hot encoding)\n",
    "category_pref = pd.crosstab(merged_data[\"CustomerID\"], merged_data[\"Category\"])\n",
    "\n",
    "# (d) Combine all features into a single dataframe\n",
    "customer_features = pd.concat([customer_spending, avg_transaction_value, category_pref], axis=1).fillna(0)\n",
    "\n",
    "# Normalize features for similarity calculation\n",
    "scaler = StandardScaler()\n",
    "normalized_features = scaler.fit_transform(customer_features)"
   ]
  },
  {
   "cell_type": "code",
   "execution_count": 5,
   "id": "c1f63580",
   "metadata": {},
   "outputs": [
    {
     "name": "stdout",
     "output_type": "stream",
     "text": [
      "Lookalike model complete. Results saved to Lookalike.csv.\n"
     ]
    }
   ],
   "source": [
    "from sklearn.metrics.pairwise import cosine_similarity\n",
    "\n",
    "\n",
    "# Calculate cosine similarity between customers\n",
    "similarity_matrix = cosine_similarity(normalized_features)\n",
    "\n",
    "# Convert similarity matrix to a DataFrame for easy handling\n",
    "similarity_df = pd.DataFrame(similarity_matrix, index=customer_features.index, columns=customer_features.index)\n",
    "\n",
    "# Function to get top 3 similar customers\n",
    "def get_top_3_lookalikes(customer_id, similarity_df):\n",
    "    similar_customers = similarity_df[customer_id].sort_values(ascending=False)[1:4]\n",
    "    return list(zip(similar_customers.index, similar_customers.values))\n",
    "\n",
    "# Generate lookalikes for the first 20 customers (C0001 - C0020)\n",
    "lookalike_map = {}\n",
    "for customer_id in df_Customer[\"CustomerID\"][:20]:\n",
    "    lookalike_map[customer_id] = get_top_3_lookalikes(customer_id, similarity_df)\n",
    "\n",
    "# Save the result as Lookalike.csv\n",
    "lookalike_df = pd.DataFrame(\n",
    "    [\n",
    "        {\"cust_id\": key, \"lookalikes\": value}\n",
    "        for key, value in lookalike_map.items()\n",
    "    ]\n",
    ")\n",
    "lookalike_df[\"lookalikes\"] = lookalike_df[\"lookalikes\"].apply(\n",
    "    lambda x: [{\"cust_id\": item[0], \"score\": round(item[1], 3)} for item in x]\n",
    ")\n",
    "lookalike_df.to_csv(\"Lookalike.csv\", index=False)\n",
    "\n",
    "print(\"Lookalike model complete. Results saved to Lookalike.csv.\")\n"
   ]
  },
  {
   "cell_type": "code",
   "execution_count": 6,
   "id": "de5857cf",
   "metadata": {},
   "outputs": [
    {
     "data": {
      "text/html": [
       "<div>\n",
       "<style scoped>\n",
       "    .dataframe tbody tr th:only-of-type {\n",
       "        vertical-align: middle;\n",
       "    }\n",
       "\n",
       "    .dataframe tbody tr th {\n",
       "        vertical-align: top;\n",
       "    }\n",
       "\n",
       "    .dataframe thead th {\n",
       "        text-align: right;\n",
       "    }\n",
       "</style>\n",
       "<table border=\"1\" class=\"dataframe\">\n",
       "  <thead>\n",
       "    <tr style=\"text-align: right;\">\n",
       "      <th></th>\n",
       "      <th>cust_id</th>\n",
       "      <th>lookalikes</th>\n",
       "    </tr>\n",
       "  </thead>\n",
       "  <tbody>\n",
       "    <tr>\n",
       "      <th>0</th>\n",
       "      <td>C0001</td>\n",
       "      <td>[{'cust_id': 'C0069', 'score': 0.941}, {'cust_...</td>\n",
       "    </tr>\n",
       "    <tr>\n",
       "      <th>1</th>\n",
       "      <td>C0002</td>\n",
       "      <td>[{'cust_id': 'C0103', 'score': 0.921}, {'cust_...</td>\n",
       "    </tr>\n",
       "    <tr>\n",
       "      <th>2</th>\n",
       "      <td>C0003</td>\n",
       "      <td>[{'cust_id': 'C0166', 'score': 0.971}, {'cust_...</td>\n",
       "    </tr>\n",
       "    <tr>\n",
       "      <th>3</th>\n",
       "      <td>C0004</td>\n",
       "      <td>[{'cust_id': 'C0122', 'score': 0.881}, {'cust_...</td>\n",
       "    </tr>\n",
       "    <tr>\n",
       "      <th>4</th>\n",
       "      <td>C0005</td>\n",
       "      <td>[{'cust_id': 'C0197', 'score': 0.997}, {'cust_...</td>\n",
       "    </tr>\n",
       "  </tbody>\n",
       "</table>\n",
       "</div>"
      ],
      "text/plain": [
       "  cust_id                                         lookalikes\n",
       "0   C0001  [{'cust_id': 'C0069', 'score': 0.941}, {'cust_...\n",
       "1   C0002  [{'cust_id': 'C0103', 'score': 0.921}, {'cust_...\n",
       "2   C0003  [{'cust_id': 'C0166', 'score': 0.971}, {'cust_...\n",
       "3   C0004  [{'cust_id': 'C0122', 'score': 0.881}, {'cust_...\n",
       "4   C0005  [{'cust_id': 'C0197', 'score': 0.997}, {'cust_..."
      ]
     },
     "execution_count": 6,
     "metadata": {},
     "output_type": "execute_result"
    }
   ],
   "source": [
    "Lookalike=pd.read_csv('Lookalike.csv')\n",
    "Lookalike.head()"
   ]
  },
  {
   "cell_type": "code",
   "execution_count": null,
   "id": "41cfa1de",
   "metadata": {},
   "outputs": [],
   "source": []
  }
 ],
 "metadata": {
  "kernelspec": {
   "display_name": "Python 3 (ipykernel)",
   "language": "python",
   "name": "python3"
  },
  "language_info": {
   "codemirror_mode": {
    "name": "ipython",
    "version": 3
   },
   "file_extension": ".py",
   "mimetype": "text/x-python",
   "name": "python",
   "nbconvert_exporter": "python",
   "pygments_lexer": "ipython3",
   "version": "3.10.5"
  }
 },
 "nbformat": 4,
 "nbformat_minor": 5
}
